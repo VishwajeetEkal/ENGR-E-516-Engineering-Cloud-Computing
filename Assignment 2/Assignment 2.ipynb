{
  "cells": [
    {
      "cell_type": "markdown",
      "source": [
        "Using google.colab to import datasets from google drive by mounting the drive.\n",
        "Have uploaded both the datasets directly there. Can use the upload functionality of the same. But I prefer mounting the drive."
      ],
      "metadata": {
        "id": "ZZvtmzRitO8L"
      },
      "id": "ZZvtmzRitO8L"
    },
    {
      "cell_type": "code",
      "source": [
        "!pip install pyspark\n",
        "\n",
        "\n",
        "from google.colab import drive\n",
        "drive.mount('/content/drive')"
      ],
      "metadata": {
        "colab": {
          "base_uri": "https://localhost:8080/"
        },
        "id": "Lx55bre0tNT8",
        "outputId": "d590212c-4dda-4806-e3a2-3536058a178d"
      },
      "id": "Lx55bre0tNT8",
      "execution_count": 2,
      "outputs": [
        {
          "output_type": "stream",
          "name": "stdout",
          "text": [
            "Collecting pyspark\n",
            "  Downloading pyspark-3.5.1.tar.gz (317.0 MB)\n",
            "\u001b[2K     \u001b[90m━━━━━━━━━━━━━━━━━━━━━━━━━━━━━━━━━━━━━━━━\u001b[0m \u001b[32m317.0/317.0 MB\u001b[0m \u001b[31m2.8 MB/s\u001b[0m eta \u001b[36m0:00:00\u001b[0m\n",
            "\u001b[?25h  Preparing metadata (setup.py) ... \u001b[?25l\u001b[?25hdone\n",
            "Requirement already satisfied: py4j==0.10.9.7 in /usr/local/lib/python3.10/dist-packages (from pyspark) (0.10.9.7)\n",
            "Building wheels for collected packages: pyspark\n",
            "  Building wheel for pyspark (setup.py) ... \u001b[?25l\u001b[?25hdone\n",
            "  Created wheel for pyspark: filename=pyspark-3.5.1-py2.py3-none-any.whl size=317488491 sha256=2b1c9293c4f8f0e4a508310a7fb45da1fa42df0afeb1ce0d94da1023b3202c6b\n",
            "  Stored in directory: /root/.cache/pip/wheels/80/1d/60/2c256ed38dddce2fdd93be545214a63e02fbd8d74fb0b7f3a6\n",
            "Successfully built pyspark\n",
            "Installing collected packages: pyspark\n",
            "Successfully installed pyspark-3.5.1\n",
            "Mounted at /content/drive\n"
          ]
        }
      ]
    },
    {
      "cell_type": "markdown",
      "source": [
        "Importing Libraries"
      ],
      "metadata": {
        "id": "HfsedtE-tL1r"
      },
      "id": "HfsedtE-tL1r"
    },
    {
      "cell_type": "code",
      "source": [
        "import os\n",
        "import numpy as np\n",
        "import pandas as pd\n",
        "import shutil\n",
        "import pyspark\n",
        "from pyspark.sql.functions import when, count, col, sum, regexp_replace\n",
        "from pyspark import SparkContext\n",
        "import pyspark.sql.functions as psf\n",
        "from pyspark.sql import SparkSession\n",
        "from pyspark.sql import SparkSession, SQLContext, Window\n",
        "from pyspark.sql.types import IntegerType\n",
        "from pyspark.ml.clustering import KMeans\n",
        "from pyspark.ml.feature import VectorAssembler\n"
      ],
      "metadata": {
        "id": "W57ak0g_jNZc"
      },
      "id": "W57ak0g_jNZc",
      "execution_count": 3,
      "outputs": []
    },
    {
      "cell_type": "code",
      "execution_count": 3,
      "id": "8de5ed34-c7ba-463c-80e5-7b4c6ca141ff",
      "metadata": {
        "id": "8de5ed34-c7ba-463c-80e5-7b4c6ca141ff"
      },
      "outputs": [],
      "source": [
        "spkObj = pyspark.sql.SparkSession.builder.appName(\"vekal_Assignment_2\").getOrCreate()"
      ]
    },
    {
      "cell_type": "code",
      "source": [
        "spkObj.conf.set(\"spark.sql.repl.eagerEval.enabled\", True)"
      ],
      "metadata": {
        "id": "arVYNPKVmUPA"
      },
      "id": "arVYNPKVmUPA",
      "execution_count": 4,
      "outputs": []
    },
    {
      "cell_type": "code",
      "execution_count": 5,
      "id": "df3bf3af-bf44-4ad0-9c9d-15acbe9fdf61",
      "metadata": {
        "colab": {
          "base_uri": "https://localhost:8080/",
          "height": 219
        },
        "id": "df3bf3af-bf44-4ad0-9c9d-15acbe9fdf61",
        "outputId": "1ff7e81c-cd4e-49b3-cd6f-319398d48a53"
      },
      "outputs": [
        {
          "output_type": "execute_result",
          "data": {
            "text/plain": [
              "<pyspark.sql.session.SparkSession at 0x7f91a7fc5c90>"
            ],
            "text/html": [
              "\n",
              "            <div>\n",
              "                <p><b>SparkSession - in-memory</b></p>\n",
              "                \n",
              "        <div>\n",
              "            <p><b>SparkContext</b></p>\n",
              "\n",
              "            <p><a href=\"http://e96db3ebc996:4040\">Spark UI</a></p>\n",
              "\n",
              "            <dl>\n",
              "              <dt>Version</dt>\n",
              "                <dd><code>v3.5.1</code></dd>\n",
              "              <dt>Master</dt>\n",
              "                <dd><code>local[*]</code></dd>\n",
              "              <dt>AppName</dt>\n",
              "                <dd><code>vekal_Assignment_2</code></dd>\n",
              "            </dl>\n",
              "        </div>\n",
              "        \n",
              "            </div>\n",
              "        "
            ]
          },
          "metadata": {},
          "execution_count": 5
        }
      ],
      "source": [
        "spkObj"
      ]
    },
    {
      "cell_type": "markdown",
      "source": [
        "# QUESTION 1"
      ],
      "metadata": {
        "id": "NwaG8q01xwyZ"
      },
      "id": "NwaG8q01xwyZ"
    },
    {
      "cell_type": "code",
      "execution_count": 6,
      "id": "a8a49595-90a5-4add-9ad7-3d21edbcbc51",
      "metadata": {
        "id": "a8a49595-90a5-4add-9ad7-3d21edbcbc51"
      },
      "outputs": [],
      "source": [
        "QUE1_NYC = spkObj.read.format(\"csv\").option(\"header\", \"true\").option(\"inferSchema\", \"true\").load('/content/drive/MyDrive/Parking_Violations_Issued_-_Fiscal_Year_2024_20240411.csv')\n"
      ]
    },
    {
      "cell_type": "code",
      "execution_count": 7,
      "id": "d3746209-e685-4e17-9fda-77d2d02b2ec0",
      "metadata": {
        "colab": {
          "base_uri": "https://localhost:8080/",
          "height": 0
        },
        "id": "d3746209-e685-4e17-9fda-77d2d02b2ec0",
        "outputId": "4c9bc61d-b93d-4294-82eb-7cd806650129"
      },
      "outputs": [
        {
          "output_type": "stream",
          "name": "stdout",
          "text": [
            "-RECORD 0-------------------------------------------\n",
            " Summons Number                    | 1159637337     \n",
            " Plate ID                          | KZH2758        \n",
            " Registration State                | NY             \n",
            " Plate Type                        | PAS            \n",
            " Issue Date                        | 06/09/2023     \n",
            " Violation Code                    | 67             \n",
            " Vehicle Body Type                 | VAN            \n",
            " Vehicle Make                      | HONDA          \n",
            " Issuing Agency                    | P              \n",
            " Street Code1                      | 0              \n",
            " Street Code2                      | 0              \n",
            " Street Code3                      | 0              \n",
            " Vehicle Expiration Date           | 20250201       \n",
            " Violation Location                | 43             \n",
            " Violation Precinct                | 43             \n",
            " Issuer Precinct                   | 43             \n",
            " Issuer Code                       | 972773         \n",
            " Issuer Command                    | 0043           \n",
            " Issuer Squad                      | 0000           \n",
            " Violation Time                    | 0911A          \n",
            " Time First Observed               | NULL           \n",
            " Violation County                  | BX             \n",
            " Violation In Front Of Or Opposite | NULL           \n",
            " House Number                      | NULL           \n",
            " Street Name                       | I/O TAYLOR AVE \n",
            " Intersecting Street               | GUERLAIN       \n",
            " Date First Observed               | 0              \n",
            " Law Section                       | 408            \n",
            " Sub Division                      | E5             \n",
            " Violation Legal Code              | NULL           \n",
            " Days Parking In Effect            | BBBBBBB        \n",
            " From Hours In Effect              | ALL            \n",
            " To Hours In Effect                | ALL            \n",
            " Vehicle Color                     | BLUE           \n",
            " Unregistered Vehicle?             | 0              \n",
            " Vehicle Year                      | 2006           \n",
            " Meter Number                      | -              \n",
            " Feet From Curb                    | 0              \n",
            " Violation Post Code               | NULL           \n",
            " Violation Description             | NULL           \n",
            " No Standing or Stopping Violation | NULL           \n",
            " Hydrant Violation                 | NULL           \n",
            " Double Parking Violation          | NULL           \n",
            "-RECORD 1-------------------------------------------\n",
            " Summons Number                    | 1252960645     \n",
            " Plate ID                          | JPD8746        \n",
            " Registration State                | NY             \n",
            " Plate Type                        | PAS            \n",
            " Issue Date                        | 06/30/2023     \n",
            " Violation Code                    | 87             \n",
            " Vehicle Body Type                 | SUBN           \n",
            " Vehicle Make                      | LINCO          \n",
            " Issuing Agency                    | M              \n",
            " Street Code1                      | 17870          \n",
            " Street Code2                      | 25390          \n",
            " Street Code3                      | 32670          \n",
            " Vehicle Expiration Date           | 20240210       \n",
            " Violation Location                | 14             \n",
            " Violation Precinct                | 14             \n",
            " Issuer Precinct                   | 968            \n",
            " Issuer Code                       | 271057         \n",
            " Issuer Command                    | 0968           \n",
            " Issuer Squad                      | 0000           \n",
            " Violation Time                    | 0717A          \n",
            " Time First Observed               | NULL           \n",
            " Violation County                  | NY             \n",
            " Violation In Front Of Or Opposite | O              \n",
            " House Number                      | 51             \n",
            " Street Name                       | E 44TH ST      \n",
            " Intersecting Street               | NULL           \n",
            " Date First Observed               | 0              \n",
            " Law Section                       | 408            \n",
            " Sub Division                      | D              \n",
            " Violation Legal Code              | NULL           \n",
            " Days Parking In Effect            | BBBBBBB        \n",
            " From Hours In Effect              | ALL            \n",
            " To Hours In Effect                | ALL            \n",
            " Vehicle Color                     | GRAY           \n",
            " Unregistered Vehicle?             | 0              \n",
            " Vehicle Year                      | 2020           \n",
            " Meter Number                      | -              \n",
            " Feet From Curb                    | 0              \n",
            " Violation Post Code               | NULL           \n",
            " Violation Description             | NULL           \n",
            " No Standing or Stopping Violation | NULL           \n",
            " Hydrant Violation                 | NULL           \n",
            " Double Parking Violation          | NULL           \n",
            "only showing top 2 rows\n",
            "\n"
          ]
        }
      ],
      "source": [
        "QUE1_NYC.show(n=2, truncate=False, vertical=True)"
      ]
    },
    {
      "cell_type": "markdown",
      "source": [
        "## Number of Rows and Columns"
      ],
      "metadata": {
        "id": "XV6iog6BqNaM"
      },
      "id": "XV6iog6BqNaM"
    },
    {
      "cell_type": "code",
      "execution_count": 8,
      "id": "34549912-ffce-4390-bffb-63ae1e5d95f5",
      "metadata": {
        "colab": {
          "base_uri": "https://localhost:8080/",
          "height": 0
        },
        "id": "34549912-ffce-4390-bffb-63ae1e5d95f5",
        "outputId": "9fe10a11-7d1a-4916-ce93-8e3a9c1e1878"
      },
      "outputs": [
        {
          "output_type": "stream",
          "name": "stdout",
          "text": [
            "Total Number of  Rows:  10717482\n",
            "Total Number of Columns:  43\n"
          ]
        }
      ],
      "source": [
        "print(\"Total Number of  Rows: \" , QUE1_NYC.count())\n",
        "print(\"Total Number of Columns: \" , len(QUE1_NYC.columns))"
      ]
    },
    {
      "cell_type": "markdown",
      "source": [
        "## Schema"
      ],
      "metadata": {
        "id": "o6WKvDkVqH9E"
      },
      "id": "o6WKvDkVqH9E"
    },
    {
      "cell_type": "code",
      "execution_count": 9,
      "id": "91f4bb48-9434-4be7-8c3f-92986730a5d2",
      "metadata": {
        "colab": {
          "base_uri": "https://localhost:8080/",
          "height": 0
        },
        "id": "91f4bb48-9434-4be7-8c3f-92986730a5d2",
        "outputId": "e5ba50fb-8474-4049-e7bd-adee97ddbe0f"
      },
      "outputs": [
        {
          "output_type": "stream",
          "name": "stdout",
          "text": [
            "root\n",
            " |-- Summons Number: long (nullable = true)\n",
            " |-- Plate ID: string (nullable = true)\n",
            " |-- Registration State: string (nullable = true)\n",
            " |-- Plate Type: string (nullable = true)\n",
            " |-- Issue Date: string (nullable = true)\n",
            " |-- Violation Code: integer (nullable = true)\n",
            " |-- Vehicle Body Type: string (nullable = true)\n",
            " |-- Vehicle Make: string (nullable = true)\n",
            " |-- Issuing Agency: string (nullable = true)\n",
            " |-- Street Code1: integer (nullable = true)\n",
            " |-- Street Code2: integer (nullable = true)\n",
            " |-- Street Code3: integer (nullable = true)\n",
            " |-- Vehicle Expiration Date: integer (nullable = true)\n",
            " |-- Violation Location: integer (nullable = true)\n",
            " |-- Violation Precinct: integer (nullable = true)\n",
            " |-- Issuer Precinct: integer (nullable = true)\n",
            " |-- Issuer Code: integer (nullable = true)\n",
            " |-- Issuer Command: string (nullable = true)\n",
            " |-- Issuer Squad: string (nullable = true)\n",
            " |-- Violation Time: string (nullable = true)\n",
            " |-- Time First Observed: string (nullable = true)\n",
            " |-- Violation County: string (nullable = true)\n",
            " |-- Violation In Front Of Or Opposite: string (nullable = true)\n",
            " |-- House Number: string (nullable = true)\n",
            " |-- Street Name: string (nullable = true)\n",
            " |-- Intersecting Street: string (nullable = true)\n",
            " |-- Date First Observed: integer (nullable = true)\n",
            " |-- Law Section: integer (nullable = true)\n",
            " |-- Sub Division: string (nullable = true)\n",
            " |-- Violation Legal Code: string (nullable = true)\n",
            " |-- Days Parking In Effect    : string (nullable = true)\n",
            " |-- From Hours In Effect: string (nullable = true)\n",
            " |-- To Hours In Effect: string (nullable = true)\n",
            " |-- Vehicle Color: string (nullable = true)\n",
            " |-- Unregistered Vehicle?: integer (nullable = true)\n",
            " |-- Vehicle Year: integer (nullable = true)\n",
            " |-- Meter Number: string (nullable = true)\n",
            " |-- Feet From Curb: integer (nullable = true)\n",
            " |-- Violation Post Code: string (nullable = true)\n",
            " |-- Violation Description: string (nullable = true)\n",
            " |-- No Standing or Stopping Violation: string (nullable = true)\n",
            " |-- Hydrant Violation: string (nullable = true)\n",
            " |-- Double Parking Violation: string (nullable = true)\n",
            "\n"
          ]
        }
      ],
      "source": [
        "QUE1_NYC.printSchema()"
      ]
    },
    {
      "cell_type": "markdown",
      "source": [
        "## Sample Data"
      ],
      "metadata": {
        "id": "mY0JuyJKqWq1"
      },
      "id": "mY0JuyJKqWq1"
    },
    {
      "cell_type": "code",
      "execution_count": 10,
      "id": "b2040d3c-efd8-4ede-a8b7-1b39db5ae608",
      "metadata": {
        "colab": {
          "base_uri": "https://localhost:8080/",
          "height": 0
        },
        "id": "b2040d3c-efd8-4ede-a8b7-1b39db5ae608",
        "outputId": "87067b67-2b81-4a79-8cf1-8fa68cfa08f5"
      },
      "outputs": [
        {
          "output_type": "stream",
          "name": "stdout",
          "text": [
            "+--------------+--------+------------------+----------+----------+--------------+-----------------+------------+--------------+------------+------------+------------+-----------------------+------------------+------------------+---------------+-----------+--------------+------------+--------------+-------------------+----------------+---------------------------------+------------+--------------+-------------------+-------------------+-----------+------------+--------------------+--------------------------+--------------------+------------------+-------------+---------------------+------------+------------+--------------+-------------------+---------------------+---------------------------------+-----------------+------------------------+\n",
            "|Summons Number|Plate ID|Registration State|Plate Type|Issue Date|Violation Code|Vehicle Body Type|Vehicle Make|Issuing Agency|Street Code1|Street Code2|Street Code3|Vehicle Expiration Date|Violation Location|Violation Precinct|Issuer Precinct|Issuer Code|Issuer Command|Issuer Squad|Violation Time|Time First Observed|Violation County|Violation In Front Of Or Opposite|House Number|   Street Name|Intersecting Street|Date First Observed|Law Section|Sub Division|Violation Legal Code|Days Parking In Effect    |From Hours In Effect|To Hours In Effect|Vehicle Color|Unregistered Vehicle?|Vehicle Year|Meter Number|Feet From Curb|Violation Post Code|Violation Description|No Standing or Stopping Violation|Hydrant Violation|Double Parking Violation|\n",
            "+--------------+--------+------------------+----------+----------+--------------+-----------------+------------+--------------+------------+------------+------------+-----------------------+------------------+------------------+---------------+-----------+--------------+------------+--------------+-------------------+----------------+---------------------------------+------------+--------------+-------------------+-------------------+-----------+------------+--------------------+--------------------------+--------------------+------------------+-------------+---------------------+------------+------------+--------------+-------------------+---------------------+---------------------------------+-----------------+------------------------+\n",
            "|    1159637337| KZH2758|                NY|       PAS|06/09/2023|            67|              VAN|       HONDA|             P|           0|           0|           0|               20250201|                43|                43|             43|     972773|          0043|        0000|         0911A|               NULL|              BX|                             NULL|        NULL|I/O TAYLOR AVE|           GUERLAIN|                  0|        408|          E5|                NULL|                   BBBBBBB|                 ALL|               ALL|         BLUE|                    0|        2006|           -|             0|               NULL|                 NULL|                             NULL|             NULL|                    NULL|\n",
            "+--------------+--------+------------------+----------+----------+--------------+-----------------+------------+--------------+------------+------------+------------+-----------------------+------------------+------------------+---------------+-----------+--------------+------------+--------------+-------------------+----------------+---------------------------------+------------+--------------+-------------------+-------------------+-----------+------------+--------------------+--------------------------+--------------------+------------------+-------------+---------------------+------------+------------+--------------+-------------------+---------------------+---------------------------------+-----------------+------------------------+\n",
            "only showing top 1 row\n",
            "\n"
          ]
        }
      ],
      "source": [
        "QUE1_NYC.selectExpr(\"*\").show(1)"
      ]
    },
    {
      "cell_type": "markdown",
      "id": "10f4e429-e4cf-4398-b7a9-f1de83b833db",
      "metadata": {
        "id": "10f4e429-e4cf-4398-b7a9-f1de83b833db"
      },
      "source": [
        "## Null Values in the dataset"
      ]
    },
    {
      "cell_type": "code",
      "execution_count": 11,
      "id": "dde06499-34a4-4eba-8627-ca52389be3e7",
      "metadata": {
        "colab": {
          "base_uri": "https://localhost:8080/",
          "height": 0
        },
        "id": "dde06499-34a4-4eba-8627-ca52389be3e7",
        "outputId": "159b1b57-c6dc-4278-d935-7c69eba10756"
      },
      "outputs": [
        {
          "output_type": "stream",
          "name": "stdout",
          "text": [
            "-RECORD 0-------------------------------------\n",
            " Summons Number                    | 0        \n",
            " Plate ID                          | 1        \n",
            " Registration State                | 0        \n",
            " Plate Type                        | 0        \n",
            " Issue Date                        | 0        \n",
            " Violation Code                    | 0        \n",
            " Vehicle Body Type                 | 28486    \n",
            " Vehicle Make                      | 10679    \n",
            " Issuing Agency                    | 0        \n",
            " Street Code1                      | 0        \n",
            " Street Code2                      | 0        \n",
            " Street Code3                      | 0        \n",
            " Vehicle Expiration Date           | 0        \n",
            " Violation Location                | 4923863  \n",
            " Violation Precinct                | 0        \n",
            " Issuer Precinct                   | 0        \n",
            " Issuer Code                       | 0        \n",
            " Issuer Command                    | 4918591  \n",
            " Issuer Squad                      | 5292644  \n",
            " Violation Time                    | 336      \n",
            " Time First Observed               | 10087137 \n",
            " Violation County                  | 102892   \n",
            " Violation In Front Of Or Opposite | 4973482  \n",
            " House Number                      | 5015875  \n",
            " Street Name                       | 1507     \n",
            " Intersecting Street               | 4980009  \n",
            " Date First Observed               | 0        \n",
            " Law Section                       | 0        \n",
            " Sub Division                      | 1767     \n",
            " Violation Legal Code              | 5799044  \n",
            " Days Parking In Effect            | 5014718  \n",
            " From Hours In Effect              | 7338955  \n",
            " To Hours In Effect                | 7338965  \n",
            " Vehicle Color                     | 1015121  \n",
            " Unregistered Vehicle?             | 10490502 \n",
            " Vehicle Year                      | 0        \n",
            " Meter Number                      | 9381186  \n",
            " Feet From Curb                    | 0        \n",
            " Violation Post Code               | 5519326  \n",
            " Violation Description             | 227812   \n",
            " No Standing or Stopping Violation | 10717482 \n",
            " Hydrant Violation                 | 10717482 \n",
            " Double Parking Violation          | 10717482 \n",
            "\n"
          ]
        }
      ],
      "source": [
        "from pyspark.sql.functions import isnan, when, count, col\n",
        "QUE1_NYC.select([count(when(col(column).isNull(), column)).alias(column) for column in QUE1_NYC.columns]).show(vertical=True)"
      ]
    },
    {
      "cell_type": "markdown",
      "id": "55c2c6aa-8693-48bd-b4ee-fa1d9aeaef5c",
      "metadata": {
        "id": "55c2c6aa-8693-48bd-b4ee-fa1d9aeaef5c"
      },
      "source": [
        "# Pre-processing and Handling Null Values"
      ]
    },
    {
      "cell_type": "code",
      "execution_count": 12,
      "id": "9371934f-404e-4399-9bf5-c3d8deb919eb",
      "metadata": {
        "id": "9371934f-404e-4399-9bf5-c3d8deb919eb"
      },
      "outputs": [],
      "source": [
        "QUE1_NYC = QUE1_NYC.dropna(subset=['Violation Time'])"
      ]
    },
    {
      "cell_type": "code",
      "execution_count": 13,
      "id": "e5d04ef6-32fe-4a86-9689-f785cafce853",
      "metadata": {
        "id": "e5d04ef6-32fe-4a86-9689-f785cafce853"
      },
      "outputs": [],
      "source": [
        "QUE1_NYC = QUE1_NYC.dropna(subset=['Vehicle Body Type'])\n"
      ]
    },
    {
      "cell_type": "code",
      "execution_count": 14,
      "id": "40abfe3f-5463-4722-b916-2b1b98bf8285",
      "metadata": {
        "id": "40abfe3f-5463-4722-b916-2b1b98bf8285"
      },
      "outputs": [],
      "source": [
        "QUE1_NYC = QUE1_NYC.dropna(subset=['Violation Location'])"
      ]
    },
    {
      "cell_type": "code",
      "source": [
        "QUE1_NYC = QUE1_NYC.dropna(subset=['Vehicle Color'])"
      ],
      "metadata": {
        "id": "c9V7wJENuD-U"
      },
      "id": "c9V7wJENuD-U",
      "execution_count": 15,
      "outputs": []
    },
    {
      "cell_type": "code",
      "execution_count": 16,
      "id": "d14a326f-fc8f-4a8f-b6e6-ef7ffa2f4590",
      "metadata": {
        "colab": {
          "base_uri": "https://localhost:8080/",
          "height": 0
        },
        "id": "d14a326f-fc8f-4a8f-b6e6-ef7ffa2f4590",
        "outputId": "8039d399-f6fa-44b5-cfc8-03e8b84a1309"
      },
      "outputs": [
        {
          "output_type": "stream",
          "name": "stdout",
          "text": [
            "-RECORD 0------------------------------------\n",
            " Summons Number                    | 0       \n",
            " Plate ID                          | 0       \n",
            " Registration State                | 0       \n",
            " Plate Type                        | 0       \n",
            " Issue Date                        | 0       \n",
            " Violation Code                    | 0       \n",
            " Vehicle Body Type                 | 0       \n",
            " Vehicle Make                      | 5004    \n",
            " Issuing Agency                    | 0       \n",
            " Street Code1                      | 0       \n",
            " Street Code2                      | 0       \n",
            " Street Code3                      | 0       \n",
            " Vehicle Expiration Date           | 0       \n",
            " Violation Location                | 0       \n",
            " Violation Precinct                | 0       \n",
            " Issuer Precinct                   | 0       \n",
            " Issuer Code                       | 0       \n",
            " Issuer Command                    | 0       \n",
            " Issuer Squad                      | 372077  \n",
            " Violation Time                    | 0       \n",
            " Time First Observed               | 5135396 \n",
            " Violation County                  | 16740   \n",
            " Violation In Front Of Or Opposite | 49635   \n",
            " House Number                      | 90803   \n",
            " Street Name                       | 442     \n",
            " Intersecting Street               | 4776952 \n",
            " Date First Observed               | 0       \n",
            " Law Section                       | 0       \n",
            " Sub Division                      | 617     \n",
            " Violation Legal Code              | 5757591 \n",
            " Days Parking In Effect            | 95438   \n",
            " From Hours In Effect              | 2418019 \n",
            " To Hours In Effect                | 2418029 \n",
            " Vehicle Color                     | 0       \n",
            " Unregistered Vehicle?             | 5566827 \n",
            " Vehicle Year                      | 0       \n",
            " Meter Number                      | 4458269 \n",
            " Feet From Curb                    | 0       \n",
            " Violation Post Code               | 562687  \n",
            " Violation Description             | 190942  \n",
            " No Standing or Stopping Violation | 5757591 \n",
            " Hydrant Violation                 | 5757591 \n",
            " Double Parking Violation          | 5757591 \n",
            "\n"
          ]
        }
      ],
      "source": [
        "QUE1_NYC.select([count(when(col(column).isNull(), column)).alias(column) for column in QUE1_NYC.columns]).show(vertical=True)\n"
      ]
    },
    {
      "cell_type": "markdown",
      "id": "14f14015-4167-42ed-86d9-ddb1e1bfef5d",
      "metadata": {
        "id": "14f14015-4167-42ed-86d9-ddb1e1bfef5d"
      },
      "source": [
        "## Create View for NYC Parking Data"
      ]
    },
    {
      "cell_type": "code",
      "execution_count": 17,
      "id": "79014af2-3f23-4c0e-81ad-26a61d371f37",
      "metadata": {
        "id": "79014af2-3f23-4c0e-81ad-26a61d371f37"
      },
      "outputs": [],
      "source": [
        "QUE1_NYC = QUE1_NYC.withColumn('Issue Year', psf.year(psf.to_date(QUE1_NYC['Issue Date'], 'MM/dd/yyyy')))\n",
        "QUE1_NYC.createOrReplaceTempView(\"QUE1_NYCView\")\n"
      ]
    },
    {
      "cell_type": "markdown",
      "id": "fc4caacc-a473-4a61-b7a8-79afb42d4c69",
      "metadata": {
        "id": "fc4caacc-a473-4a61-b7a8-79afb42d4c69"
      },
      "source": [
        "# When are tickets most likely to be issued? (15 pts)"
      ]
    },
    {
      "cell_type": "code",
      "execution_count": 18,
      "id": "5e919073-cba9-4ee3-9d39-1cc05f6c6fba",
      "metadata": {
        "colab": {
          "base_uri": "https://localhost:8080/",
          "height": 0
        },
        "id": "5e919073-cba9-4ee3-9d39-1cc05f6c6fba",
        "outputId": "d0234f41-3430-47b2-b1fc-32479eba127b"
      },
      "outputs": [
        {
          "output_type": "stream",
          "name": "stdout",
          "text": [
            "+--------------+----------------+\n",
            "|Violation Time|Ticket_Frequency|\n",
            "+--------------+----------------+\n",
            "|         0836A|           16176|\n",
            "|         0838A|           15559|\n",
            "|         0839A|           15544|\n",
            "|         0840A|           15381|\n",
            "|         0906A|           15142|\n",
            "|         0841A|           15017|\n",
            "|         0837A|           14901|\n",
            "|         0842A|           14724|\n",
            "|         0908A|           14488|\n",
            "|         0843A|           14430|\n",
            "|         0845A|           14408|\n",
            "|         0910A|           14388|\n",
            "|         0909A|           14379|\n",
            "|         0907A|           14263|\n",
            "|         0844A|           14226|\n",
            "|         1140A|           13978|\n",
            "|         0846A|           13899|\n",
            "|         1141A|           13789|\n",
            "|         1139A|           13713|\n",
            "|         0911A|           13706|\n",
            "+--------------+----------------+\n",
            "only showing top 20 rows\n",
            "\n"
          ]
        }
      ],
      "source": [
        "spkObj.sql(\"SELECT `Violation Time`, COUNT(*) AS Ticket_Frequency FROM QUE1_NYCView GROUP BY `Violation Time` ORDER BY Ticket_Frequency DESC\").show()\n"
      ]
    },
    {
      "cell_type": "markdown",
      "id": "481cb6c9-f215-427a-9031-9088f2c241fd",
      "metadata": {
        "id": "481cb6c9-f215-427a-9031-9088f2c241fd"
      },
      "source": [
        "## Answer:\n",
        "* We have our maximum number of violators i.e 16176 at 0836A which 8:36 AM."
      ]
    },
    {
      "cell_type": "markdown",
      "source": [
        "Used violation time to find this out"
      ],
      "metadata": {
        "id": "WPrVhVyxz4I-"
      },
      "id": "WPrVhVyxz4I-"
    },
    {
      "cell_type": "markdown",
      "id": "df78993b-35fc-4879-a987-f099d49b57af",
      "metadata": {
        "id": "df78993b-35fc-4879-a987-f099d49b57af"
      },
      "source": [
        "# What are the most common years and types of cars to be ticketed? (15 pts)"
      ]
    },
    {
      "cell_type": "code",
      "execution_count": 19,
      "id": "7536cc0b-d8f5-4127-b7ef-2796e531b2a1",
      "metadata": {
        "colab": {
          "base_uri": "https://localhost:8080/",
          "height": 0
        },
        "id": "7536cc0b-d8f5-4127-b7ef-2796e531b2a1",
        "outputId": "22321a01-67ca-4d90-ec69-66fda6e94905"
      },
      "outputs": [
        {
          "output_type": "stream",
          "name": "stdout",
          "text": [
            "+-----------+----------+---------------+\n",
            "|Type of Car|Issue Year|Violation_Count|\n",
            "+-----------+----------+---------------+\n",
            "|       SUBN|      2023|        1455740|\n",
            "|       4DSD|      2023|         762700|\n",
            "|       SUBN|      2024|         470615|\n",
            "|        VAN|      2023|         438855|\n",
            "|       4DSD|      2024|         233471|\n",
            "|        VAN|      2024|         137466|\n",
            "|       PICK|      2023|         100055|\n",
            "|       DELV|      2023|          85359|\n",
            "|       2DSD|      2023|          56158|\n",
            "|        SDN|      2023|          49267|\n",
            "|       REFG|      2023|          39034|\n",
            "|       PICK|      2024|          32876|\n",
            "|       DELV|      2024|          25891|\n",
            "|       2DSD|      2024|          16746|\n",
            "|       CONV|      2023|          15146|\n",
            "|       REFG|      2024|          12309|\n",
            "|       UTIL|      2023|          11866|\n",
            "|       TRAC|      2023|          10499|\n",
            "|        SDN|      2024|           9530|\n",
            "|       SEDN|      2023|           8616|\n",
            "+-----------+----------+---------------+\n",
            "only showing top 20 rows\n",
            "\n"
          ]
        }
      ],
      "source": [
        "spkObj.sql(\"SELECT `Vehicle Body Type` as `Type of Car`,`Issue Year`, COUNT(*) AS `Violation_Count` FROM QUE1_NYCView WHERE (`Vehicle Year` > 0) GROUP BY `Vehicle Body Type`, `Issue Year` ORDER BY `Violation_Count` DESC\").show()\n"
      ]
    },
    {
      "cell_type": "markdown",
      "id": "d18e7a8a-1077-44a6-8c3c-cb5c4781a2d7",
      "metadata": {
        "id": "d18e7a8a-1077-44a6-8c3c-cb5c4781a2d7"
      },
      "source": [
        "## Answer:\n",
        "* The most common year seems to be 2023 and the most common car seems to be SUBN."
      ]
    },
    {
      "cell_type": "markdown",
      "source": [
        "Issue Year Column was created with the help of issue date. Which was then used to find most common years and the type of vehicle."
      ],
      "metadata": {
        "id": "3fq0w_Efz-tH"
      },
      "id": "3fq0w_Efz-tH"
    },
    {
      "cell_type": "markdown",
      "id": "7c4fefb0-2241-4e3e-b3f1-96b24c94821e",
      "metadata": {
        "id": "7c4fefb0-2241-4e3e-b3f1-96b24c94821e"
      },
      "source": [
        "# Where are tickets most commonly issued? (15 pts)"
      ]
    },
    {
      "cell_type": "code",
      "execution_count": 20,
      "id": "8ffffd87-d723-4dc6-bd29-ef115a9801d8",
      "metadata": {
        "colab": {
          "base_uri": "https://localhost:8080/",
          "height": 0
        },
        "id": "8ffffd87-d723-4dc6-bd29-ef115a9801d8",
        "outputId": "05f88cc8-31f3-4f93-b8c0-75e48cec3097"
      },
      "outputs": [
        {
          "output_type": "stream",
          "name": "stdout",
          "text": [
            "+------------------+-------------+\n",
            "|Violation Location|No_of_tickets|\n",
            "+------------------+-------------+\n",
            "|                19|       275694|\n",
            "|               114|       211702|\n",
            "|                 6|       207346|\n",
            "|                13|       188822|\n",
            "|                14|       177747|\n",
            "|               109|       153290|\n",
            "|                 1|       147416|\n",
            "|                18|       147053|\n",
            "|                 9|       141548|\n",
            "|               115|       135019|\n",
            "|                61|       116063|\n",
            "|                66|       115531|\n",
            "|                20|       115337|\n",
            "|               112|       109566|\n",
            "|                70|       107169|\n",
            "|                84|       103834|\n",
            "|               103|       103248|\n",
            "|               108|       102315|\n",
            "|                52|       101996|\n",
            "|                46|        98129|\n",
            "+------------------+-------------+\n",
            "only showing top 20 rows\n",
            "\n"
          ]
        }
      ],
      "source": [
        "spkObj.sql(\"SELECT `Violation Location`, COUNT(*) AS No_of_tickets  FROM QUE1_NYCView GROUP BY `Violation Location` ORDER BY count(*) DESC\").show()"
      ]
    },
    {
      "cell_type": "markdown",
      "id": "d1a25af6-14bc-4529-9ca5-fc0b364abd36",
      "metadata": {
        "id": "d1a25af6-14bc-4529-9ca5-fc0b364abd36"
      },
      "source": [
        "## Answer:\n",
        "* Most number of tickets have been issued at Location 19"
      ]
    },
    {
      "cell_type": "markdown",
      "source": [
        "The Violation Location was used to find the location where most tickets were issued."
      ],
      "metadata": {
        "id": "Simo7hL40SsD"
      },
      "id": "Simo7hL40SsD"
    },
    {
      "cell_type": "markdown",
      "id": "c5d9e5b3-13cb-4327-9c16-93a98991ab0e",
      "metadata": {
        "id": "c5d9e5b3-13cb-4327-9c16-93a98991ab0e"
      },
      "source": [
        "# Which color of the vehicle is most likely to get a ticket? (15 pts)"
      ]
    },
    {
      "cell_type": "code",
      "execution_count": 21,
      "id": "85b35548-e972-40a2-97fb-1e72270000f0",
      "metadata": {
        "colab": {
          "base_uri": "https://localhost:8080/",
          "height": 0
        },
        "id": "85b35548-e972-40a2-97fb-1e72270000f0",
        "outputId": "60a4da4c-6400-40a5-8b09-031ce7fee543"
      },
      "outputs": [
        {
          "output_type": "stream",
          "name": "stdout",
          "text": [
            "+-------------+------------+\n",
            "|Vehicle Color|Ticket_Count|\n",
            "+-------------+------------+\n",
            "|           WH|     1100571|\n",
            "|           GY|     1013560|\n",
            "|           BK|      867338|\n",
            "|        WHITE|      598915|\n",
            "|        BLACK|      389161|\n",
            "|           BL|      348480|\n",
            "|         GREY|      301436|\n",
            "|           RD|      194491|\n",
            "|         BLUE|      136469|\n",
            "|        SILVE|      129919|\n",
            "|        BROWN|      129532|\n",
            "|          RED|       98815|\n",
            "|           GR|       72157|\n",
            "|           TN|       36762|\n",
            "|        OTHER|       33153|\n",
            "|           BR|       32054|\n",
            "|          BLK|       31434|\n",
            "|        GREEN|       25426|\n",
            "|           YW|       24872|\n",
            "|           GL|       21431|\n",
            "+-------------+------------+\n",
            "only showing top 20 rows\n",
            "\n"
          ]
        }
      ],
      "source": [
        "spkObj.sql(\"SELECT `Vehicle Color`, COUNT(*) as Ticket_Count FROM QUE1_NYCView GROUP BY `Vehicle Color` ORDER BY COUNT(*) DESC\").show()"
      ]
    },
    {
      "cell_type": "markdown",
      "id": "f4b3dd04-1bb4-4a4e-9ef5-dfd95231d072",
      "metadata": {
        "id": "f4b3dd04-1bb4-4a4e-9ef5-dfd95231d072"
      },
      "source": [
        "## Answer :\n",
        "* WH is the most ticket issued vehicle with 1100571 tickets issued."
      ]
    },
    {
      "cell_type": "markdown",
      "source": [
        "The vehicle colour column was used to find which coloured vehicle was most frequently ticketed."
      ],
      "metadata": {
        "id": "zndgc5vL0cDU"
      },
      "id": "zndgc5vL0cDU"
    },
    {
      "cell_type": "code",
      "execution_count": 22,
      "id": "ef55830f-8f92-4f1b-a049-da12a906c575",
      "metadata": {
        "id": "ef55830f-8f92-4f1b-a049-da12a906c575"
      },
      "outputs": [],
      "source": [
        "spkObj.stop()"
      ]
    },
    {
      "cell_type": "markdown",
      "id": "4acefd89-1099-4b99-b252-316be40ecd16",
      "metadata": {
        "id": "4acefd89-1099-4b99-b252-316be40ecd16"
      },
      "source": [
        "# Based on a K-Means algorithm, please try to answer the following question: Given a Black vehicle parking illegally at 34510, 10030, 34050 (street codes). What is the probability that it will get an ticket? (very rough prediction). (20 pts)"
      ]
    },
    {
      "cell_type": "code",
      "execution_count": 23,
      "id": "886e4649-36cc-46e9-b7ff-d7edd0c52dd9",
      "metadata": {
        "id": "886e4649-36cc-46e9-b7ff-d7edd0c52dd9"
      },
      "outputs": [],
      "source": [
        "spkObj = SparkSession.builder \\\n",
        ".appName('vekal_Assignment_2') \\\n",
        ".master('local[*]') \\\n",
        ".config('spark.sql.execution.arrow.pyspark.enabled', True) \\\n",
        ".config('spark.sql.session.timeZone', 'UTC') \\\n",
        ".config('spark.driver.memory','32G') \\\n",
        ".config('spark.ui.showConsoleProgress', True) \\\n",
        ".config('spark.sql.repl.eagerEval.enabled', True) \\\n",
        ".getOrCreate()"
      ]
    },
    {
      "cell_type": "code",
      "execution_count": 24,
      "id": "f4168beb-6d85-4805-aa14-1f06856a9e63",
      "metadata": {
        "colab": {
          "base_uri": "https://localhost:8080/",
          "height": 219
        },
        "id": "f4168beb-6d85-4805-aa14-1f06856a9e63",
        "outputId": "14b0c266-b560-4633-d564-faf7a8d27c32"
      },
      "outputs": [
        {
          "output_type": "execute_result",
          "data": {
            "text/plain": [
              "<pyspark.sql.session.SparkSession at 0x7f91a7f91f30>"
            ],
            "text/html": [
              "\n",
              "            <div>\n",
              "                <p><b>SparkSession - in-memory</b></p>\n",
              "                \n",
              "        <div>\n",
              "            <p><b>SparkContext</b></p>\n",
              "\n",
              "            <p><a href=\"http://e96db3ebc996:4040\">Spark UI</a></p>\n",
              "\n",
              "            <dl>\n",
              "              <dt>Version</dt>\n",
              "                <dd><code>v3.5.1</code></dd>\n",
              "              <dt>Master</dt>\n",
              "                <dd><code>local[*]</code></dd>\n",
              "              <dt>AppName</dt>\n",
              "                <dd><code>vekal_Assignment_2</code></dd>\n",
              "            </dl>\n",
              "        </div>\n",
              "        \n",
              "            </div>\n",
              "        "
            ]
          },
          "metadata": {},
          "execution_count": 24
        }
      ],
      "source": [
        "spkObj"
      ]
    },
    {
      "cell_type": "markdown",
      "id": "e025140f-c99a-43ac-8e02-938a94a44520",
      "metadata": {
        "id": "e025140f-c99a-43ac-8e02-938a94a44520"
      },
      "source": [
        "### Reading the Data"
      ]
    },
    {
      "cell_type": "code",
      "execution_count": 25,
      "id": "d55f4d2d-af04-4559-8874-e24b1238bee8",
      "metadata": {
        "id": "d55f4d2d-af04-4559-8874-e24b1238bee8"
      },
      "outputs": [],
      "source": [
        "QUE1_NYC = spkObj.read.format(\"csv\").option(\"header\", \"true\").option(\"inferSchema\",\"true\").load('/content/drive/MyDrive/Parking_Violations_Issued_-_Fiscal_Year_2024_20240411.csv').select('Street Code1', 'Street Code2', 'Street Code3', 'Vehicle Color')\n",
        "\n",
        "QUE1_NYC = QUE1_NYC.select(QUE1_NYC['Street Code1'].cast('float'), QUE1_NYC['Street Code2'].cast('float'), QUE1_NYC['Street Code3'].cast('float'), QUE1_NYC['Vehicle Color'])"
      ]
    },
    {
      "cell_type": "code",
      "execution_count": 26,
      "id": "c4e57a32-0c39-4fc5-8001-7b02cd69a079",
      "metadata": {
        "id": "c4e57a32-0c39-4fc5-8001-7b02cd69a079"
      },
      "outputs": [],
      "source": [
        "from pyspark.ml.clustering import KMeans\n",
        "from pyspark.ml.feature import VectorAssembler\n",
        "import pyspark.sql.functions as psf\n",
        "import numpy as np"
      ]
    },
    {
      "cell_type": "markdown",
      "source": [
        "First I created a List of all possible Black colours. The street code column was added for the requirements of the question. For which spark vector assembler was used. For the k means value of K is 4. Then a function calculates the probability of a black vehicle being in a cluster by using the list I created. Finally the closest cluster is found using Euclidean Distance, and the closest cluster index is returned."
      ],
      "metadata": {
        "id": "EG3Rr6GB0t-7"
      },
      "id": "EG3Rr6GB0t-7"
    },
    {
      "cell_type": "code",
      "source": [
        "def vectorize_street_codes(data_frame):\n",
        "\n",
        "    assembler = VectorAssembler(inputCols=[\"Street Code1\", \"Street Code2\", \"Street Code3\"], outputCol=\"vectorized_street_codes\")\n",
        "    return assembler.transform(data_frame)\n",
        "\n",
        "def initialize_kmeans(vectorized_data):\n",
        "\n",
        "    kmeans_model = KMeans(k=4, featuresCol=\"vectorized_street_codes\")\n",
        "    model_fit = kmeans_model.fit(vectorized_data.select('vectorized_street_codes'))\n",
        "    cluster_centers = np.array(model_fit.clusterCenters()).astype(float)\n",
        "    return model_fit.transform(vectorized_data).cache(), cluster_centers"
      ],
      "metadata": {
        "id": "YCOwELo_wl6g"
      },
      "id": "YCOwELo_wl6g",
      "execution_count": 27,
      "outputs": []
    },
    {
      "cell_type": "code",
      "execution_count": 28,
      "id": "8b3abbbd-9345-43d6-94e8-cdfdf8feac8e",
      "metadata": {
        "id": "8b3abbbd-9345-43d6-94e8-cdfdf8feac8e"
      },
      "outputs": [],
      "source": [
        "def calculate_black_car_probability(data_frame, black_colors):\n",
        "\n",
        "    color_distribution = data_frame.groupBy('prediction').agg(\n",
        "        psf.sum(psf.when(psf.col('Vehicle Color').isin(black_colors), 1)).alias('Black_Count'),\n",
        "        psf.count('Vehicle Color').alias('Total_Cars')\n",
        "    ).orderBy('prediction')\n",
        "\n",
        "    return color_distribution.select(\n",
        "        'prediction',\n",
        "        'Black_Count',\n",
        "        'Total_Cars',\n",
        "        (psf.col('Black_Count') / psf.col('Total_Cars')).alias('Probability')\n",
        "    )\n",
        "\n"
      ]
    },
    {
      "cell_type": "code",
      "execution_count": 29,
      "id": "d6b586f4-1731-4ec0-80a2-abaab9233e01",
      "metadata": {
        "id": "d6b586f4-1731-4ec0-80a2-abaab9233e01"
      },
      "outputs": [],
      "source": [
        "def find_closest_cluster(street_data, cluster_centers):\n",
        "\n",
        "    street_data = np.array(street_data)\n",
        "\n",
        "    distances = np.sum((cluster_centers - street_data)**2, axis=1)\n",
        "\n",
        "    closest_cluster_index = np.argmin(distances)\n",
        "\n",
        "    return closest_cluster_index\n"
      ]
    },
    {
      "cell_type": "code",
      "execution_count": 30,
      "id": "0176c5dd-d86d-4c07-be66-34e79e40e0ec",
      "metadata": {
        "id": "0176c5dd-d86d-4c07-be66-34e79e40e0ec"
      },
      "outputs": [],
      "source": [
        "\n",
        "def display_cluster_probability(cluster_center_id, probabilities_df):\n",
        "\n",
        "    print(f'Cluster ID for given Street Code: {cluster_center_id}')\n",
        "    print(\"-----------------------------------------------------------------------\")\n",
        "    print(\"Probability for that Cluster:\")\n",
        "    probabilities_df.filter(psf.col('prediction') == cluster_center_id).show()\n"
      ]
    },
    {
      "cell_type": "code",
      "execution_count": 31,
      "id": "8b50e338-8696-4849-838a-33ab695dec94",
      "metadata": {
        "id": "8b50e338-8696-4849-838a-33ab695dec94"
      },
      "outputs": [],
      "source": [
        "def calculate_and_display_probability(data_frame, black_colors, street_code):\n",
        "\n",
        "    vectorized_data = vectorize_street_codes(data_frame)\n",
        "\n",
        "    clustered_data, cluster_centers = initialize_kmeans(vectorized_data)\n",
        "\n",
        "    probabilities_df = calculate_black_car_probability(clustered_data, black_colors)\n",
        "\n",
        "    closest_cluster_id = find_closest_cluster(street_code, cluster_centers)\n",
        "\n",
        "    display_cluster_probability(closest_cluster_id, probabilities_df)"
      ]
    },
    {
      "cell_type": "code",
      "execution_count": 32,
      "id": "75298208-5bfc-4332-9637-c3e6722eab41",
      "metadata": {
        "id": "75298208-5bfc-4332-9637-c3e6722eab41",
        "colab": {
          "base_uri": "https://localhost:8080/",
          "height": 0
        },
        "outputId": "ff82b91c-56db-403c-e6d1-ebcf71174686"
      },
      "outputs": [
        {
          "output_type": "stream",
          "name": "stdout",
          "text": [
            "Cluster ID for given Street Code (34510, 10030, 34050): 0\n",
            "-----------------------------------------------------------------------\n",
            "Probability for that Specific Cluster:\n",
            "+----------+-----------+----------+-------------------+\n",
            "|prediction|Black_Count|Total_Cars|        Probability|\n",
            "+----------+-----------+----------+-------------------+\n",
            "|         0|     327327|   2342418|0.13973893643235324|\n",
            "+----------+-----------+----------+-------------------+\n",
            "\n"
          ]
        }
      ],
      "source": [
        "blackColor=['BLK.', 'Black', 'BC', 'BLAC', 'BK/', 'BLK', 'BK.', 'BCK', 'BK', 'B LAC']\n",
        "streetCode=[34510, 10030, 34050]\n",
        "calculate_and_display_probability(QUE1_NYC,blackColor,streetCode )\n"
      ]
    },
    {
      "cell_type": "markdown",
      "source": [
        "The above model is built for K = 4 for which probability is 0.1476759875634194"
      ],
      "metadata": {
        "id": "BFLaf27HyhIZ"
      },
      "id": "BFLaf27HyhIZ"
    },
    {
      "cell_type": "code",
      "source": [
        "spkObj.stop()"
      ],
      "metadata": {
        "id": "a5Nab9YI4x8U"
      },
      "id": "a5Nab9YI4x8U",
      "execution_count": 33,
      "outputs": []
    },
    {
      "cell_type": "markdown",
      "source": [
        "# QUESTION 2"
      ],
      "metadata": {
        "id": "ywZdV-mNxrLR"
      },
      "id": "ywZdV-mNxrLR"
    },
    {
      "cell_type": "code",
      "source": [
        "spkObj = pyspark.sql.SparkSession.builder.appName(\"vekal_Assignment_2\").getOrCreate()"
      ],
      "metadata": {
        "id": "Bn9lSkm12Xi_"
      },
      "id": "Bn9lSkm12Xi_",
      "execution_count": 128,
      "outputs": []
    },
    {
      "cell_type": "code",
      "source": [
        "spkObj.conf.set(\"spark.sql.repl.eagerEval.enabled\", True)"
      ],
      "metadata": {
        "id": "Z5zqPX2FL5i1"
      },
      "id": "Z5zqPX2FL5i1",
      "execution_count": 129,
      "outputs": []
    },
    {
      "cell_type": "code",
      "execution_count": 130,
      "id": "5f0a4f82-181a-4517-9fc2-f7941a5cf776",
      "metadata": {
        "id": "5f0a4f82-181a-4517-9fc2-f7941a5cf776"
      },
      "outputs": [],
      "source": [
        "QUE2_NBA = spkObj.read.format(\"csv\").option(\"header\", \"true\",).option(\"inferSchema\",\"true\").load('/content/drive/MyDrive/shot_logs.csv')"
      ]
    },
    {
      "cell_type": "code",
      "source": [
        "QUE2_NBA.show(n=1)"
      ],
      "metadata": {
        "id": "ApvRnVoXnRap",
        "colab": {
          "base_uri": "https://localhost:8080/",
          "height": 0
        },
        "outputId": "3d524f00-fa7c-4643-e5d8-92d7c0137d35"
      },
      "id": "ApvRnVoXnRap",
      "execution_count": 131,
      "outputs": [
        {
          "output_type": "stream",
          "name": "stdout",
          "text": [
            "+--------+--------------------+--------+---+------------+-----------+------+-------------------+----------+--------+----------+---------+--------+-----------+----------------+--------------------------+--------------+---+---+-------------+---------+\n",
            "| GAME_ID|             MATCHUP|LOCATION|  W|FINAL_MARGIN|SHOT_NUMBER|PERIOD|         GAME_CLOCK|SHOT_CLOCK|DRIBBLES|TOUCH_TIME|SHOT_DIST|PTS_TYPE|SHOT_RESULT|CLOSEST_DEFENDER|CLOSEST_DEFENDER_PLAYER_ID|CLOSE_DEF_DIST|FGM|PTS|  player_name|player_id|\n",
            "+--------+--------------------+--------+---+------------+-----------+------+-------------------+----------+--------+----------+---------+--------+-----------+----------------+--------------------------+--------------+---+---+-------------+---------+\n",
            "|21400899|MAR 04, 2015 - CH...|       A|  W|          24|          1|     1|2024-04-12 01:09:00|      10.8|       2|       1.9|      7.7|       2|       made|  Anderson, Alan|                    101187|           1.3|  1|  2|brian roberts|   203148|\n",
            "+--------+--------------------+--------+---+------------+-----------+------+-------------------+----------+--------+----------+---------+--------+-----------+----------------+--------------------------+--------------+---+---+-------------+---------+\n",
            "only showing top 1 row\n",
            "\n"
          ]
        }
      ]
    },
    {
      "cell_type": "markdown",
      "source": [
        "Number of Rows and Columns"
      ],
      "metadata": {
        "id": "sK3U3N-W1bKO"
      },
      "id": "sK3U3N-W1bKO"
    },
    {
      "cell_type": "code",
      "source": [
        "print(\"Total Number of Rows: \" , QUE2_NBA.count())\n",
        "print(\"Total Number of Columns: \" , len(QUE2_NBA.columns))"
      ],
      "metadata": {
        "id": "qv7AtCwOnXNH",
        "colab": {
          "base_uri": "https://localhost:8080/",
          "height": 0
        },
        "outputId": "7ffb1711-c910-42f2-8caf-1ca595e6e94f"
      },
      "id": "qv7AtCwOnXNH",
      "execution_count": 132,
      "outputs": [
        {
          "output_type": "stream",
          "name": "stdout",
          "text": [
            "Total Number of Rows:  128069\n",
            "Total Number of Columns:  21\n"
          ]
        }
      ]
    },
    {
      "cell_type": "markdown",
      "source": [
        "Schema"
      ],
      "metadata": {
        "id": "m588JZyz1e5f"
      },
      "id": "m588JZyz1e5f"
    },
    {
      "cell_type": "code",
      "source": [
        "QUE2_NBA.printSchema()"
      ],
      "metadata": {
        "id": "9uX5VJUBnYcV",
        "colab": {
          "base_uri": "https://localhost:8080/",
          "height": 0
        },
        "outputId": "e3043aba-8add-48fc-d75b-1d11598aa453"
      },
      "id": "9uX5VJUBnYcV",
      "execution_count": 133,
      "outputs": [
        {
          "output_type": "stream",
          "name": "stdout",
          "text": [
            "root\n",
            " |-- GAME_ID: integer (nullable = true)\n",
            " |-- MATCHUP: string (nullable = true)\n",
            " |-- LOCATION: string (nullable = true)\n",
            " |-- W: string (nullable = true)\n",
            " |-- FINAL_MARGIN: integer (nullable = true)\n",
            " |-- SHOT_NUMBER: integer (nullable = true)\n",
            " |-- PERIOD: integer (nullable = true)\n",
            " |-- GAME_CLOCK: timestamp (nullable = true)\n",
            " |-- SHOT_CLOCK: double (nullable = true)\n",
            " |-- DRIBBLES: integer (nullable = true)\n",
            " |-- TOUCH_TIME: double (nullable = true)\n",
            " |-- SHOT_DIST: double (nullable = true)\n",
            " |-- PTS_TYPE: integer (nullable = true)\n",
            " |-- SHOT_RESULT: string (nullable = true)\n",
            " |-- CLOSEST_DEFENDER: string (nullable = true)\n",
            " |-- CLOSEST_DEFENDER_PLAYER_ID: integer (nullable = true)\n",
            " |-- CLOSE_DEF_DIST: double (nullable = true)\n",
            " |-- FGM: integer (nullable = true)\n",
            " |-- PTS: integer (nullable = true)\n",
            " |-- player_name: string (nullable = true)\n",
            " |-- player_id: integer (nullable = true)\n",
            "\n"
          ]
        }
      ]
    },
    {
      "cell_type": "markdown",
      "source": [
        "# For each pair of the players (A, B), we define the fear sore of A when facing B is the hit rate, such that B is closet defender when A is shooting. Based on the fear sore, for each player, please find out who is his ”most unwanted defender”. (10 pts)"
      ],
      "metadata": {
        "id": "Q6yHLINTncC2"
      },
      "id": "Q6yHLINTncC2"
    },
    {
      "cell_type": "markdown",
      "source": [
        "madeCond and missedCond are used to create a separate dataframe. Where we use the player name and closest defender as a pair. Then I calculated a ratio of total shots made and total shots attempted, by usinfg the same pair mentioned above. We drop the null and duplicate values along the way based on Player ID and Defender ID and display the answer."
      ],
      "metadata": {
        "id": "WE44JRNp1qZG"
      },
      "id": "WE44JRNp1qZG"
    },
    {
      "cell_type": "code",
      "source": [
        "dataframe = (\n",
        "    QUE2_NBA\n",
        "    .groupBy(\n",
        "        psf.col(\"player_id\").alias(\"Player ID\"),\n",
        "        psf.col(\"CLOSEST_DEFENDER_PLAYER_ID\").alias(\"Defender ID\")\n",
        "    )\n",
        "    .agg(\n",
        "        psf.sum(psf.when(psf.col(\"SHOT_RESULT\") == \"made\", 1).otherwise(0)).alias(\"Scored\"),\n",
        "        psf.sum(psf.when(psf.col(\"SHOT_RESULT\") == \"missed\", 1).otherwise(0)).alias(\"Not Scored\")\n",
        "    )\n",
        ")\n",
        "\n",
        "dataframe.show(10)"
      ],
      "metadata": {
        "colab": {
          "base_uri": "https://localhost:8080/",
          "height": 0
        },
        "id": "WYIQ9THcNBVb",
        "outputId": "db9596dd-161c-4942-f18f-0c5834356fe8"
      },
      "id": "WYIQ9THcNBVb",
      "execution_count": 134,
      "outputs": [
        {
          "output_type": "stream",
          "name": "stdout",
          "text": [
            "+---------+-----------+------+----------+\n",
            "|Player ID|Defender ID|Scored|Not Scored|\n",
            "+---------+-----------+------+----------+\n",
            "|   203148|     101179|     0|         1|\n",
            "|   202687|     201980|     1|         0|\n",
            "|     2744|       1717|     0|         2|\n",
            "|   203469|     202329|     1|         1|\n",
            "|   201945|     202322|     0|         3|\n",
            "|   202689|     202699|     6|         8|\n",
            "|   202689|     203924|     1|         0|\n",
            "|   203077|       2730|     1|         0|\n",
            "|   203077|     201584|     2|         0|\n",
            "|   202362|     201188|     2|         0|\n",
            "+---------+-----------+------+----------+\n",
            "only showing top 10 rows\n",
            "\n"
          ]
        }
      ]
    },
    {
      "cell_type": "code",
      "source": [
        "dataframe = dataframe.withColumn(\n",
        "    \"HR\",\n",
        "    psf.col(\"Scored\") / (psf.col(\"Scored\") + psf.col(\"Not Scored\"))\n",
        ")\n",
        "dataframe.show(10)"
      ],
      "metadata": {
        "id": "a-TbbtoUnYXc",
        "colab": {
          "base_uri": "https://localhost:8080/",
          "height": 0
        },
        "outputId": "f466cf4b-adc3-493b-8971-a7e2cf918595"
      },
      "id": "a-TbbtoUnYXc",
      "execution_count": 135,
      "outputs": [
        {
          "output_type": "stream",
          "name": "stdout",
          "text": [
            "+---------+-----------+------+----------+-------------------+\n",
            "|Player ID|Defender ID|Scored|Not Scored|                 HR|\n",
            "+---------+-----------+------+----------+-------------------+\n",
            "|   203148|     101179|     0|         1|                0.0|\n",
            "|   202687|     201980|     1|         0|                1.0|\n",
            "|     2744|       1717|     0|         2|                0.0|\n",
            "|   203469|     202329|     1|         1|                0.5|\n",
            "|   201945|     202322|     0|         3|                0.0|\n",
            "|   202689|     202699|     6|         8|0.42857142857142855|\n",
            "|   202689|     203924|     1|         0|                1.0|\n",
            "|   203077|       2730|     1|         0|                1.0|\n",
            "|   203077|     201584|     2|         0|                1.0|\n",
            "|   202362|     201188|     2|         0|                1.0|\n",
            "+---------+-----------+------+----------+-------------------+\n",
            "only showing top 10 rows\n",
            "\n"
          ]
        }
      ]
    },
    {
      "cell_type": "code",
      "source": [
        "dataframe = dataframe.filter(psf.col(\"HR\").isNotNull())"
      ],
      "metadata": {
        "id": "O8y4XTzgnYVm"
      },
      "id": "O8y4XTzgnYVm",
      "execution_count": 136,
      "outputs": []
    },
    {
      "cell_type": "code",
      "source": [
        "dataframe = dataframe.dropDuplicates(subset=[\"Player ID\", \"HR\"])"
      ],
      "metadata": {
        "id": "lOTYpfPXnYTE"
      },
      "id": "lOTYpfPXnYTE",
      "execution_count": 137,
      "outputs": []
    },
    {
      "cell_type": "code",
      "source": [
        "tempFrame = dataframe.groupBy(\"Player ID\").agg(psf.min(\"HR\").alias(\"HR\"))"
      ],
      "metadata": {
        "id": "F6TVoERhnYQS"
      },
      "id": "F6TVoERhnYQS",
      "execution_count": 138,
      "outputs": []
    },
    {
      "cell_type": "code",
      "source": [
        "dataframe = dataframe.join(tempFrame, [\"Player ID\", \"HR\"]).select(\"Player ID\", \"Defender ID\")\n",
        "\n",
        "\n",
        "dataframe = dataframe.join(\n",
        "    QUE2_NBA,\n",
        "    (QUE2_NBA[\"player_id\"] == dataframe[\"Player ID\"]) & (QUE2_NBA[\"CLOSEST_DEFENDER_PLAYER_ID\"] == dataframe[\"Defender ID\"])\n",
        ").withColumn(\"Player Name\", col(\"player_name\")).withColumn(\"Most Unwanted Defender\", col(\"CLOSEST_DEFENDER\"))\n",
        "\n",
        "dataframe = dataframe.dropDuplicates([\"Player ID\", \"Defender ID\"])\n",
        "\n",
        "dataframe.select(\"Player Name\", \"Most Unwanted Defender\").show(10)"
      ],
      "metadata": {
        "colab": {
          "base_uri": "https://localhost:8080/",
          "height": 0
        },
        "id": "17UUOWlTOg11",
        "outputId": "5dc6e0d1-9524-4891-cb4f-daa2d9433ac1"
      },
      "id": "17UUOWlTOg11",
      "execution_count": 139,
      "outputs": [
        {
          "output_type": "stream",
          "name": "stdout",
          "text": [
            "+--------------+----------------------+\n",
            "|   Player Name|Most Unwanted Defender|\n",
            "+--------------+----------------------+\n",
            "| kevin garnett|           Exum, Dante|\n",
            "|   kobe bryant|        Anderson, Kyle|\n",
            "|    tim duncan|        Roberts, Brian|\n",
            "|  vince carter|       Crawford, Jamal|\n",
            "|dirk nowtizski|           Hickson, JJ|\n",
            "|   paul pierce|         Waiters, Dion|\n",
            "|  andre miller|       Splitter, Tiago|\n",
            "|  shawn marion|     Tolliver, Anthony|\n",
            "|   jason terry|          Lopez, Brook|\n",
            "| manu ginobili|      Bennett, Anthony|\n",
            "+--------------+----------------------+\n",
            "only showing top 10 rows\n",
            "\n"
          ]
        }
      ]
    },
    {
      "cell_type": "markdown",
      "source": [
        "## Answer:\n",
        "From the above table, we can see that most unwanted defender for each of the player. So, if Kevin Garnett is the shooter, the most the unwanted defender is the  Exum, Dante"
      ],
      "metadata": {
        "id": "CV62WmppnoCB"
      },
      "id": "CV62WmppnoCB"
    },
    {
      "cell_type": "code",
      "source": [
        "spkObj.stop()"
      ],
      "metadata": {
        "id": "XpAa2WOxnYKn"
      },
      "id": "XpAa2WOxnYKn",
      "execution_count": 140,
      "outputs": []
    },
    {
      "cell_type": "markdown",
      "source": [
        "\n",
        "\n",
        "\n",
        "# For each player, we define the comfortable zone of shooting is a matrix of,\n",
        "\n",
        " #  {SHOT DIST, CLOSE DEF DIST, SHOT CLOCK}\n",
        "\n",
        " #  Please develop a Spark-based algorithm to classify each player’s records into 4 comfortable zones. Considering the hit rate, which zone is the best for James Harden, Chris Paul, Stephen Curry, and Lebron James. (10 pts)"
      ],
      "metadata": {
        "id": "RuKa4xDXnsQX"
      },
      "id": "RuKa4xDXnsQX"
    },
    {
      "cell_type": "code",
      "source": [
        "spkObj= pyspark.sql.SparkSession.builder.appName(\"vekal_Assignment_2\").getOrCreate()\n",
        "spkObj.conf.set(\"spark.sql.repl.eagerEval.enabled\", True)"
      ],
      "metadata": {
        "id": "AU5FHUS4nYH6"
      },
      "id": "AU5FHUS4nYH6",
      "execution_count": 21,
      "outputs": []
    },
    {
      "cell_type": "code",
      "source": [
        "QUE2_NBA = spkObj.read.format(\"csv\").option(\"header\", \"true\",).option(\"inferSchema\",\"true\").load('/content/drive/MyDrive/shot_logs.csv').select(\"player_name\",\"SHOT_DIST\",\"CLOSE_DEF_DIST\", \"SHOT_CLOCK\", \"SHOT_RESULT\").na.drop()"
      ],
      "metadata": {
        "id": "wXC1AWu7nYFW"
      },
      "id": "wXC1AWu7nYFW",
      "execution_count": 22,
      "outputs": []
    },
    {
      "cell_type": "markdown",
      "source": [
        "Transforming the column into binary 1 for successful shot 0 for missed. (Basically One-Hot Encoding)"
      ],
      "metadata": {
        "id": "4nx5UEUS-aNb"
      },
      "id": "4nx5UEUS-aNb"
    },
    {
      "cell_type": "code",
      "source": [
        "QUE2_NBA = QUE2_NBA.withColumn('SHOT_RESULT', psf.when(psf.col('SHOT_RESULT') == 'made', 1).otherwise(0).cast('float'))\n",
        "comfortMatrix = [\"SHOT_DIST\", \"CLOSE_DEF_DIST\", \"SHOT_CLOCK\"]\n"
      ],
      "metadata": {
        "id": "cJWldMb6nxGa"
      },
      "id": "cJWldMb6nxGa",
      "execution_count": 23,
      "outputs": []
    },
    {
      "cell_type": "markdown",
      "source": [
        "Chnaging every column data type to float."
      ],
      "metadata": {
        "id": "lbyVJE9k-ofa"
      },
      "id": "lbyVJE9k-ofa"
    },
    {
      "cell_type": "code",
      "source": [
        "for i in comfortMatrix:\n",
        "    QUE2_NBA = QUE2_NBA.withColumn(i, psf.col(i).cast(\"float\"))\n"
      ],
      "metadata": {
        "id": "Z1kLhfjtnYCn"
      },
      "id": "Z1kLhfjtnYCn",
      "execution_count": 24,
      "outputs": []
    },
    {
      "cell_type": "markdown",
      "source": [
        "The value of K is 4, and we fit the model to the data. The data is filtered for the required player. The fitted model is then used to predict the cluster assignment. Since the K means clustering algorithm assigns clusters randomly every time we run the code we might get different clusters. But few players will belong to the same cluster only. In this example except for Chris Paul, everyone else will be in the same zone."
      ],
      "metadata": {
        "id": "vEgkFivw_dEh"
      },
      "id": "vEgkFivw_dEh"
    },
    {
      "cell_type": "code",
      "source": [
        "vecAssembler = VectorAssembler(inputCols=comfortMatrix, outputCol=\"Zones\")\n",
        "QUE2_NBA = vecAssembler.transform(QUE2_NBA).select('player_name', 'Zones', 'SHOT_RESULT')\n",
        "\n",
        "\n",
        "kmeans = KMeans(k=4, featuresCol=\"Zones\")\n",
        "kmeansFitData = kmeans.fit(QUE2_NBA)\n",
        "\n",
        "pD = QUE2_NBA.filter(QUE2_NBA['player_name'].isin(['james harden', 'chris paul', 'stephen curry', 'lebron james']))\n",
        "\n",
        "pred = kmeansFitData.transform(pD).select('player_name', 'prediction', 'SHOT_RESULT')\n"
      ],
      "metadata": {
        "id": "bq_p-kGWnX_8"
      },
      "id": "bq_p-kGWnX_8",
      "execution_count": 25,
      "outputs": []
    },
    {
      "cell_type": "markdown",
      "source": [
        "Following code snippet basically calculates the average shot result for every player. Then max avg shot result for each player is identified using join operation. Only where the avg is highest."
      ],
      "metadata": {
        "id": "oUKu3qHO-2J4"
      },
      "id": "oUKu3qHO-2J4"
    },
    {
      "cell_type": "code",
      "source": [
        "pred.createOrReplaceTempView(\"player_zones\")"
      ],
      "metadata": {
        "id": "eeh4lqNqnX8j"
      },
      "id": "eeh4lqNqnX8j",
      "execution_count": 26,
      "outputs": []
    },
    {
      "cell_type": "code",
      "source": [
        "result = spkObj.sql(\"\"\"SELECT player_name, prediction, AVG(SHOT_RESULT) AS avgShotResult FROM player_zones GROUP BY player_name, prediction ORDER BY player_name, prediction \"\"\")\n",
        "\n",
        "maxAvgShot = result.groupBy(\"player_name\").agg(psf.max(\"avgShotResult\").alias(\"maxAvgShotResult\"))\n",
        "\n",
        "best_Zone = result.alias(\"f1\").join(maxAvgShot.alias(\"f2\"), (psf.col(\"f1.player_name\") == psf.col(\"f2.player_name\")) & (psf.col(\"f1.avgShotResult\") == psf.col(\"f2.maxAvgShotResult\")))\n",
        "\n",
        "best_Zone = best_Zone.select(\"f1.*\")\n",
        "best_Zone.show()"
      ],
      "metadata": {
        "id": "OWwVy9wAnX4q",
        "colab": {
          "base_uri": "https://localhost:8080/"
        },
        "outputId": "2bf39726-aa12-429c-cf37-9741ea327da4"
      },
      "id": "OWwVy9wAnX4q",
      "execution_count": 27,
      "outputs": [
        {
          "output_type": "stream",
          "name": "stdout",
          "text": [
            "+-------------+----------+------------------+\n",
            "|  player_name|prediction|     avgShotResult|\n",
            "+-------------+----------+------------------+\n",
            "| lebron james|         1|0.6613545816733067|\n",
            "|   chris paul|         0|0.5563380281690141|\n",
            "| james harden|         1|0.5604395604395604|\n",
            "|stephen curry|         1|0.6350710900473934|\n",
            "+-------------+----------+------------------+\n",
            "\n"
          ]
        }
      ]
    },
    {
      "cell_type": "markdown",
      "source": [
        "## Answer:\n",
        "Zone-1 corresponds to a prediction value of 0, Zone-2 to 1, Zone-3 to 2, and Zone-4 to 3 in the 'prediction' column of the dataset. To analyze each player's comfort zone, the data was organized by player and by zone, and the average score was computed for each grouping.\n"
      ],
      "metadata": {
        "id": "MJVonQhqn3vM"
      },
      "id": "MJVonQhqn3vM"
    },
    {
      "cell_type": "code",
      "source": [
        "spkObj.stop()"
      ],
      "metadata": {
        "id": "b8H-_58goA8T"
      },
      "id": "b8H-_58goA8T",
      "execution_count": 28,
      "outputs": []
    },
    {
      "cell_type": "code",
      "source": [],
      "metadata": {
        "id": "X1Lngp4B48YO"
      },
      "id": "X1Lngp4B48YO",
      "execution_count": 109,
      "outputs": []
    }
  ],
  "metadata": {
    "kernelspec": {
      "display_name": "Python 3",
      "name": "python3"
    },
    "language_info": {
      "codemirror_mode": {
        "name": "ipython",
        "version": 3
      },
      "file_extension": ".py",
      "mimetype": "text/x-python",
      "name": "python",
      "nbconvert_exporter": "python",
      "pygments_lexer": "ipython3",
      "version": "3.11.6"
    },
    "colab": {
      "provenance": [],
      "gpuType": "T4"
    },
    "accelerator": "GPU"
  },
  "nbformat": 4,
  "nbformat_minor": 5
}